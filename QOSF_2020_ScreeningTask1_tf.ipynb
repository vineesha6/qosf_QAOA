{
  "nbformat": 4,
  "nbformat_minor": 0,
  "metadata": {
    "kernelspec": {
      "display_name": "TensorFlow-GPU",
      "language": "python",
      "name": "tf-gpu"
    },
    "language_info": {
      "codemirror_mode": {
        "name": "ipython",
        "version": 3
      },
      "file_extension": ".py",
      "mimetype": "text/x-python",
      "name": "python",
      "nbconvert_exporter": "python",
      "pygments_lexer": "ipython3",
      "version": "3.7.6"
    },
    "colab": {
      "name": "QOSF_2020_ScreeningTask1_tf.ipynb",
      "provenance": [],
      "collapsed_sections": []
    }
  },
  "cells": [
    {
      "cell_type": "code",
      "metadata": {
        "id": "6btO1AFqcvdP",
        "colab_type": "code",
        "colab": {}
      },
      "source": [
        "#required imports\n",
        "import tensorflow as tf\n",
        "import pennylane as qml\n",
        "from pennylane.qnodes import PassthruQNode\n",
        "from pennylane import numpy as np\n",
        "import matplotlib.pyplot as plt"
      ],
      "execution_count": 1,
      "outputs": []
    },
    {
      "cell_type": "code",
      "metadata": {
        "id": "36-KGUIccvdU",
        "colab_type": "code",
        "colab": {}
      },
      "source": [
        "#using the simulated Pennylane device 'default.qubit.tf' in order to access state vector computed by qnode using PassthruQNode\n",
        "dev = qml.device('default.qubit.tf', wires=4)"
      ],
      "execution_count": 2,
      "outputs": []
    },
    {
      "cell_type": "code",
      "metadata": {
        "id": "8hGgpmLDcvdX",
        "colab_type": "code",
        "colab": {}
      },
      "source": [
        "#defining 'one' layer of my circuit\n",
        "\n",
        "def Layer(theta):\n",
        "    #defining circuit U_i for i= odd\n",
        "    qml.RZ(theta[0], wires= 0)\n",
        "    qml.RZ(theta[1], wires= 1)\n",
        "    qml.RZ(theta[2], wires= 2)\n",
        "    qml.RZ(theta[3], wires= 3)\n",
        "    qml.CZ(wires=[0,1])\n",
        "    qml.CZ(wires=[0,2])\n",
        "    qml.CZ(wires=[0,3])\n",
        "    qml.CZ(wires=[1,2])\n",
        "    qml.CZ(wires=[1,3])\n",
        "    qml.CZ(wires=[2,3])\n",
        "    \n",
        "    #defining circuit U_i for i= even\n",
        "    qml.RX(theta[4], wires= 0)\n",
        "    qml.RX(theta[5], wires= 1)\n",
        "    qml.RX(theta[6], wires= 2)\n",
        "    qml.RX(theta[7], wires= 3)\n"
      ],
      "execution_count": 3,
      "outputs": []
    },
    {
      "cell_type": "code",
      "metadata": {
        "id": "YrvztzeJeLof",
        "colab_type": "code",
        "colab": {}
      },
      "source": [
        "#defining my quantum circuit\n",
        "def circuit(theta):\n",
        "  n= theta.get_shape().as_list()[0]  \n",
        "  l= int(n/8)                                  # Here l is the no. of layers in our circuit, which is obtained by dividing total no. of parameters by no. of theta params in each layer(=8)\n",
        "  for i in range(l):\n",
        "    j=i*8\n",
        "    Layer(theta[j:j+8])\n",
        "  return qml.expval(qml.PauliZ(0))"
      ],
      "execution_count": 4,
      "outputs": []
    },
    {
      "cell_type": "code",
      "metadata": {
        "id": "FWR0ZXURh2sd",
        "colab_type": "code",
        "colab": {}
      },
      "source": [
        "# using a special feature of Pennylane in order to read/print the state vector computed by our quantum circuit\n",
        "qnode = PassthruQNode(circuit, dev)           "
      ],
      "execution_count": 5,
      "outputs": []
    },
    {
      "cell_type": "markdown",
      "metadata": {
        "id": "42FOtmHPUk-n",
        "colab_type": "text"
      },
      "source": [
        "The following function \n",
        "\n",
        "\n",
        "```\n",
        "def find_min_distance(L, Phi)```\n",
        "\n",
        "\n",
        "\n",
        "1.   Takes input parameters- L (number of layers in our quantum circuit) and previously initialized random state-vector $|\\Phi\\rangle$,\n",
        "\n",
        "2.   initializes random theta parameters(trainable) tensor of size based on the input parameter L (Total number of params= no. of trainable params in one layer* L),\n",
        "\n",
        "3.   optimizes the params($\\theta_{i,n} \\in \\left(0,2 \\pi\\right)$) to minimize the distance $\\epsilon$ between the computed state vector $|\\Psi(\\theta)\\rangle$ and $|\\Phi\\rangle$ given by $\\epsilon= min_{\\theta}||\\left(|\\Psi(\\theta)\\rangle - |\\Phi\\rangle\\right)||$, and\n",
        "\n",
        "4.   returns the scalar minimum distance $\\epsilon$ corresponding to the optimized theta params.   \n",
        "\n",
        "\n",
        "\n",
        " \n",
        "##### **Optimization steps**\n",
        "I define my number of optimization steps as a function of L(total number of layers). Large L corresponds to a more complex circuit, and qnode takes relatively more time to compute the cost function. But, minimization of cost function for large L is very quick. So I adjust the no. of steps with an inverse factor of L such that the computation time of the entire function for each L remains nearly same."
      ]
    },
    {
      "cell_type": "code",
      "metadata": {
        "id": "EMsoNP7HL3Xg",
        "colab_type": "code",
        "colab": {}
      },
      "source": [
        "def find_min_distance(L, Phi):\n",
        "  opt = tf.keras.optimizers.Adam(learning_rate=0.01)                            #using tf optimizer Adam with learning rate= 0.01\n",
        "  steps = int(1000/L)                                                           #defining no. of steps as a function of L, large L requires less steps to converge with the same learning rate.\n",
        "  theta= tf.Variable(np.random.uniform(0, 2*np.pi, 8*L))\n",
        "  for i in range(steps):\n",
        "    with tf.GradientTape() as tape:\n",
        "      tape.watch(theta)\n",
        "      qnode(theta)\n",
        "      Psi=dev._state\n",
        "      Psi= tf.reshape(Psi, [16])\n",
        "      loss = tf.norm(Psi-Phi)                                                   # our cost function is the norm distance between Psi and Phi, which we want to minimize\n",
        "    gradients = tape.gradient(loss, theta)\n",
        "    opt.apply_gradients(zip([gradients], [theta]))\n",
        "    min_dist= tf.get_static_value(loss)\n",
        "  return min_dist"
      ],
      "execution_count": 6,
      "outputs": []
    },
    {
      "cell_type": "code",
      "metadata": {
        "id": "cbCXJW8zUMGR",
        "colab_type": "code",
        "colab": {}
      },
      "source": [
        "def min_dist_vs_L(L_max, Phi):                                                  # This function computes the minimum distance function for L = 1 to L= L_max and returns a numpy array of the computed min. dist values\n",
        "  min_dist=L_max*[0]\n",
        "  for i in range(L_max):\n",
        "    print(\"Computing min. distance for L={:d}...\".format(i+1))\n",
        "    min_dist[i]= find_min_distance(i+1, Phi)\n",
        "    print(\"done\")\n",
        "  return min_dist"
      ],
      "execution_count": 7,
      "outputs": []
    },
    {
      "cell_type": "code",
      "metadata": {
        "id": "ohpYulEYZNyZ",
        "colab_type": "code",
        "colab": {
          "base_uri": "https://localhost:8080/",
          "height": 822
        },
        "outputId": "1bd4e05a-6f56-447e-fe64-8be753e3ec78"
      },
      "source": [
        "L_max= 10\n",
        "L= range(1, L_max+1)\n",
        "\n",
        "# defining our random 4-qubit normalized state vector here for once which will be used throughout in our computation\n",
        "Phi= tf.Variable(np.random.random(16) + np.random.random(16) * 1j)\n",
        "Phi= Phi/tf.norm(Phi)\n",
        "\n",
        "epsilon= min_dist_vs_L(L_max, Phi)\n",
        "plt.figure(figsize=(15,7))\n",
        "plt.plot(L, epsilon,'-o')\n",
        "plt.ylabel('minimum distance b/w Psi and Phi', fontsize=15)\n",
        "plt.xlabel('L, number of layers', fontsize=15)\n",
        "plt.xticks(fontsize=15)\n",
        "plt.yticks(fontsize=15)\n",
        "plt.show()"
      ],
      "execution_count": 8,
      "outputs": [
        {
          "output_type": "stream",
          "text": [
            "Computing min. distance for L=1...\n",
            "done\n",
            "Computing min. distance for L=2...\n",
            "done\n",
            "Computing min. distance for L=3...\n",
            "done\n",
            "Computing min. distance for L=4...\n",
            "done\n",
            "Computing min. distance for L=5...\n",
            "done\n",
            "Computing min. distance for L=6...\n",
            "done\n",
            "Computing min. distance for L=7...\n",
            "done\n",
            "Computing min. distance for L=8...\n",
            "done\n",
            "Computing min. distance for L=9...\n",
            "done\n",
            "Computing min. distance for L=10...\n",
            "done\n"
          ],
          "name": "stdout"
        },
        {
          "output_type": "stream",
          "text": [
            "/usr/local/lib/python3.6/dist-packages/numpy/core/_asarray.py:85: ComplexWarning: Casting complex values to real discards the imaginary part\n",
            "  return array(a, dtype, copy=False, order=order)\n"
          ],
          "name": "stderr"
        },
        {
          "output_type": "display_data",
          "data": {
            "image/png": "[encoded data removed]",
            "text/plain": [
              "<Figure size 1080x504 with 1 Axes>"
            ]
          },
          "metadata": {
            "tags": [],
            "needs_background": "light"
          }
        }
      ]
    },
    {
      "cell_type": "markdown",
      "metadata": {
        "id": "xyxFogqkqhdL",
        "colab_type": "text"
      },
      "source": [
        "## Observations and conclusions\n",
        "\n",
        "\n",
        "\n",
        "1.   The minimum distance between the computed state vector $|\\Psi(\\theta)\\rangle$ and $|\\Phi\\rangle$ given by $\\epsilon= min_{\\theta}||\\left(|\\Psi(\\theta)\\rangle - |\\Phi\\rangle\\right)||$ decreases with increasing L and converges to near zero. \n",
        "\n",
        "2.   For L>5, the increase in number of layers is redundant.\n",
        "\n",
        "3.   The distance measure converging to zero implies the closeness(physical behaviour) of our state vector $|\\Psi(\\theta)\\rangle$ to a desired state $|\\Phi\\rangle$ of our choice. So, the implementation of the above quantum circuit can be used to solve a quantum state-preparation problem wherein we'd be able to determine the right set of parametrized gates(optimal $\\theta_{i,n}$ values) that need to be used in our quantum circuit to realize a quantum state of our choice(or a state with properties of our choice). \n",
        "\n"
      ]
    }
  ]
}